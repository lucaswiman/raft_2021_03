{
 "cells": [
  {
   "cell_type": "markdown",
   "metadata": {},
   "source": [
    "**Problem (operations puzzle):** Given a sequence of positive integers $S=(a_0, a_1, \\ldots, a_{n-1})$ and a desired value $C$, construct a sequence of signs $s_0, \\ldots, s_{n-1}$ such that:\n",
    "$$\\sum_{i=0}^{n-1} s_i\\cdot a_i = C$$"
   ]
  },
  {
   "cell_type": "markdown",
   "metadata": {},
   "source": [
    "**Theorem:** This problem is NP-complete.\n",
    "\n",
    "**Proof:**\n",
    "\n",
    "  1. First note that any possible solution can be checked in linear time, so the problem is in NP.\n",
    "  2. Now we must find an NP-complete problem such that we can write an algorithm using an oracle for the operations puzzle, where:\n",
    "    1. The size of operations puzzles are polynomial in the size of the original problem instance, and\n",
    "    2. The number of calls to the operations puzzle oracle is polynomial in the size of the original problem instance.\n"
   ]
  },
  {
   "cell_type": "markdown",
   "metadata": {},
   "source": [
    "For this puzzle, we will use the \"Subset Sum\" problem, which is NP-complete (https://en.wikipedia.org/wiki/Subset_sum_problem), in particular, the variant where all the numbers are positive (which is also NP-complete). The problem statement is similar:\n",
    "> In its most general formulation, there is a multiset $S$ of integers and a target sum $T$, and the question is to decide whether any subset of the integers sum to precisely $T$.\n"
   ]
  },
  {
   "cell_type": "markdown",
   "metadata": {},
   "source": [
    "Given an instance $S=(a_0, \\ldots, a_{n-1}), T$ of the positive subset sum problem, let:\n",
    "\n",
    "\\begin{aligned}\n",
    "L &= \\left\\lceil\\lg \\left(\\sum_{s\\in S} s\\right)\\right\\rceil + 3 \\\\\n",
    "q_i &:= 2^{L+2i}  \\qquad \\textrm{(a power of two larger than 4 times the sum of S)}\\\\\n",
    "C &:= 2T + \\sum_i q_i\\\\\n",
    "b_i &:= a_i + q_i \\\\\n",
    "\\end{aligned}\n",
    "\n",
    "Now define a new sequence of numbers $S' = (a_0, \\ldots, a_{n-1}, b_0, \\ldots b_{n-1})$.\n",
    "\n",
    "**Claim:** The operations puzzle problem $(S', C)$ has a solution if and only if the subset-sum problem $(S, T)$ has a solution."
   ]
  },
  {
   "cell_type": "markdown",
   "metadata": {},
   "source": [
    "**Proof of claim:** (sketch) First note that for any solution to the operations puzzle, the signs $s_n, \\ldots s_{2n-1}$ must all be 1, since the terms $q_i$ occur on both sides of the equation, and cannot be formed as a sum of any of the other terms. (They're too large to be a sum of the $s_i$, and are too far apart from each other for any $q_i$ to be a sum of other $q_j$'s.)\n",
    "\n",
    "($\\Rightarrow$) If $s_i$ ($0\\leq i < n$) is $-1$ in the operations solution, then the two $a_i$ terms cancel. This corresponds to $a_i$ not being a member of the subset that sums to $T$. Similarly, if $s_i=1$, then this corresponds to including the number in the sum, since the $a_i$ term is included twice. Thus there we can construct a subsequence $S_0 :=(a_i\\in S|s_i=1)\\subseteq S$ of the original sequence such that:\n",
    "$$ \\left(\\sum_{a\\not \\in S_0} (-a+a)\\right)  + \\sum_{a\\in S_0} 2a + \\sum_i q_i = 2T + \\sum_i q_i $$\n",
    "\n",
    "Canceling like terms and dividing by 2, we obtain:\n",
    "$$ \\sum_{a\\in S_0} a = T $$\n",
    "\n",
    "($\\Rightarrow$) Given $S_0\\subseteq S$ such that $\\sum_{a\\in S_0} a = T$, then define signs $s_i=-1$ if $a_i\\not\\in S_0$, $s_i=1$ if $a_i\\in S_0$ ($0\\leq i<n$), and $s_i=+1$ otherwise. By a similar argument to the $\\Rightarrow$ case, this is a solution to the transformed operations puzzle instance. \n"
   ]
  }
 ],
 "metadata": {
  "kernelspec": {
   "display_name": "Python 3",
   "language": "python",
   "name": "python3"
  },
  "language_info": {
   "codemirror_mode": {
    "name": "ipython",
    "version": 3
   },
   "file_extension": ".py",
   "mimetype": "text/x-python",
   "name": "python",
   "nbconvert_exporter": "python",
   "pygments_lexer": "ipython3",
   "version": "3.8.1"
  }
 },
 "nbformat": 4,
 "nbformat_minor": 4
}
